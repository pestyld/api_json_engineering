{
 "cells": [
  {
   "cell_type": "markdown",
   "metadata": {},
   "source": [
    "# Exploring Data from the World Bank API with Python: Retrieval, Transformation, and Visualization\n",
    "In this notebook, you will learn how to use Python to interact with the World Bank's REST API, retrieve data in JSON format, and transform it into a structured DataFrame. The example was divided into three sections:\n",
    "\n",
    "**Request to the World Bank API**\n",
    "\n",
    "Using Python, access the World Bank's REST API to fetch data using the requests library.\n",
    "\n",
    "**Data Transformation**\n",
    "\n",
    "This involves parsing a valid JSON string and converting it into a Python list with the json package. Then converting the list it into a structured DataFrame with the Pandas library. Lastly, using the pandas library, perform final transformations on the DataFrame, making it available for further analysis.\n",
    "\n",
    "**Data Analysis and Visualization**\n",
    "\n",
    "With the final DataFrame, perform simple analysis and visualizations."
   ]
  },
  {
   "cell_type": "markdown",
   "metadata": {},
   "source": [
    "## Import packages"
   ]
  },
  {
   "cell_type": "code",
   "execution_count": 1,
   "metadata": {},
   "outputs": [],
   "source": [
    "import pandas as pd\n",
    "import numpy as np\n",
    "import requests\n",
    "import json\n",
    "import seaborn as sns\n",
    "import matplotlib.pyplot as plt\n",
    "from matplotlib.ticker import FuncFormatter"
   ]
  },
  {
   "cell_type": "markdown",
   "metadata": {},
   "source": [
    "## 1. Request to the World Bank API\n",
    "Sent a get request to read the World Bank API to obtain GDP information from 2000 to 2022 for Greece, Brazil and the United States."
   ]
  },
  {
   "cell_type": "code",
   "execution_count": 2,
   "metadata": {},
   "outputs": [],
   "source": [
    "url = r'https://api.worldbank.org/v2/country/GR;BR;US/indicator/NY.GDP.MKTP.CD/'\n",
    "\n",
    "myParams = {\n",
    "    'format':'json',\n",
    "    'per_page':'5000',\n",
    "    'date':'2000:2022'\n",
    "}\n",
    "\n",
    "data = requests.get(url, params=myParams)"
   ]
  },
  {
   "cell_type": "markdown",
   "metadata": {},
   "source": [
    "Check the status code of the API request."
   ]
  },
  {
   "cell_type": "code",
   "execution_count": 3,
   "metadata": {},
   "outputs": [
    {
     "name": "stdout",
     "output_type": "stream",
     "text": [
      "Request status code: 200\n"
     ]
    }
   ],
   "source": [
    "print(f'Request status code: {data.status_code}')"
   ]
  },
  {
   "cell_type": "markdown",
   "metadata": {},
   "source": [
    "Preview the string response."
   ]
  },
  {
   "cell_type": "code",
   "execution_count": 4,
   "metadata": {},
   "outputs": [
    {
     "name": "stdout",
     "output_type": "stream",
     "text": [
      "[{\"page\":1,\"pages\":1,\"per_page\":5000,\"total\":69,\"sourceid\":\"2\",\"lastupdated\":\"2024-02-21\"},[{\"indicator\":{\"id\":\"NY.GDP.MKTP.CD\",\"value\":\"GDP (current US$)\"},\"country\":{\"id\":\"BR\",\"value\":\"Brazil\"},\"countryiso3code\":\"BRA\",\"date\":\"2022\",\"value\":1920095779022.73,\"unit\":\"\",\"obs_status\":\"\",\"decimal\":0},{\"indicator\":{\"id\":\"NY.GDP.MKTP.CD\",\"value\":\"GDP (current US$)\"},\"country\":{\"id\":\"BR\",\"value\":\"Brazil\"},\"countryiso3code\":\"BRA\",\"date\":\"2021\",\"value\":1649622821885.14,\"unit\":\"\",\"obs_status\":\"\",\"decimal\"\n"
     ]
    }
   ],
   "source": [
    "print(data.text[:500])"
   ]
  },
  {
   "cell_type": "markdown",
   "metadata": {},
   "source": [
    "## 2. Data Transformation\n",
    "### String to Python object\n",
    "The json.loads() method can be used to parse a valid JSON string and convert it into a Python object. It is mainly used for deserializing native string, byte, or byte array which consists of JSON data into Python Dictionary."
   ]
  },
  {
   "cell_type": "code",
   "execution_count": 5,
   "metadata": {},
   "outputs": [],
   "source": [
    "json_data = json.loads(data.text)"
   ]
  },
  {
   "cell_type": "code",
   "execution_count": 6,
   "metadata": {},
   "outputs": [
    {
     "name": "stdout",
     "output_type": "stream",
     "text": [
      "Data type: <class 'list'> \n",
      "Number of elements: 2\n"
     ]
    }
   ],
   "source": [
    "print(f'Data type: {type(json_data)} ')\n",
    "print(f'Number of elements: {len(json_data)}')"
   ]
  },
  {
   "cell_type": "markdown",
   "metadata": {},
   "source": [
    "View the first element in the JSON array. Notice that it is an object with information about the API request."
   ]
  },
  {
   "cell_type": "code",
   "execution_count": 7,
   "metadata": {},
   "outputs": [
    {
     "data": {
      "text/plain": [
       "{'page': 1,\n",
       " 'pages': 1,\n",
       " 'per_page': 5000,\n",
       " 'total': 69,\n",
       " 'sourceid': '2',\n",
       " 'lastupdated': '2024-02-21'}"
      ]
     },
     "execution_count": 7,
     "metadata": {},
     "output_type": "execute_result"
    }
   ],
   "source": [
    "json_data[0]"
   ]
  },
  {
   "cell_type": "markdown",
   "metadata": {},
   "source": [
    "Preview the second element in the JSON array. Notice that it is an array of objects. Each object contains GDP information about each country."
   ]
  },
  {
   "cell_type": "code",
   "execution_count": 8,
   "metadata": {},
   "outputs": [
    {
     "data": {
      "text/plain": [
       "[{'indicator': {'id': 'NY.GDP.MKTP.CD', 'value': 'GDP (current US$)'},\n",
       "  'country': {'id': 'BR', 'value': 'Brazil'},\n",
       "  'countryiso3code': 'BRA',\n",
       "  'date': '2022',\n",
       "  'value': 1920095779022.73,\n",
       "  'unit': '',\n",
       "  'obs_status': '',\n",
       "  'decimal': 0},\n",
       " {'indicator': {'id': 'NY.GDP.MKTP.CD', 'value': 'GDP (current US$)'},\n",
       "  'country': {'id': 'BR', 'value': 'Brazil'},\n",
       "  'countryiso3code': 'BRA',\n",
       "  'date': '2021',\n",
       "  'value': 1649622821885.14,\n",
       "  'unit': '',\n",
       "  'obs_status': '',\n",
       "  'decimal': 0},\n",
       " {'indicator': {'id': 'NY.GDP.MKTP.CD', 'value': 'GDP (current US$)'},\n",
       "  'country': {'id': 'BR', 'value': 'Brazil'},\n",
       "  'countryiso3code': 'BRA',\n",
       "  'date': '2020',\n",
       "  'value': 1476107231194.11,\n",
       "  'unit': '',\n",
       "  'obs_status': '',\n",
       "  'decimal': 0},\n",
       " {'indicator': {'id': 'NY.GDP.MKTP.CD', 'value': 'GDP (current US$)'},\n",
       "  'country': {'id': 'BR', 'value': 'Brazil'},\n",
       "  'countryiso3code': 'BRA',\n",
       "  'date': '2019',\n",
       "  'value': 1873288205186.45,\n",
       "  'unit': '',\n",
       "  'obs_status': '',\n",
       "  'decimal': 0},\n",
       " {'indicator': {'id': 'NY.GDP.MKTP.CD', 'value': 'GDP (current US$)'},\n",
       "  'country': {'id': 'BR', 'value': 'Brazil'},\n",
       "  'countryiso3code': 'BRA',\n",
       "  'date': '2018',\n",
       "  'value': 1916933898038.36,\n",
       "  'unit': '',\n",
       "  'obs_status': '',\n",
       "  'decimal': 0}]"
      ]
     },
     "execution_count": 8,
     "metadata": {},
     "output_type": "execute_result"
    }
   ],
   "source": [
    "json_data[1][:5]"
   ]
  },
  {
   "cell_type": "markdown",
   "metadata": {},
   "source": [
    "### Python object to DataFrame"
   ]
  },
  {
   "cell_type": "markdown",
   "metadata": {},
   "source": [
    "Convert the array of objects to a DataFrame."
   ]
  },
  {
   "cell_type": "code",
   "execution_count": 9,
   "metadata": {},
   "outputs": [
    {
     "data": {
      "text/html": [
       "<div>\n",
       "<style scoped>\n",
       "    .dataframe tbody tr th:only-of-type {\n",
       "        vertical-align: middle;\n",
       "    }\n",
       "\n",
       "    .dataframe tbody tr th {\n",
       "        vertical-align: top;\n",
       "    }\n",
       "\n",
       "    .dataframe thead th {\n",
       "        text-align: right;\n",
       "    }\n",
       "</style>\n",
       "<table border=\"1\" class=\"dataframe\">\n",
       "  <thead>\n",
       "    <tr style=\"text-align: right;\">\n",
       "      <th></th>\n",
       "      <th>countryiso3code</th>\n",
       "      <th>date</th>\n",
       "      <th>value</th>\n",
       "      <th>unit</th>\n",
       "      <th>obs_status</th>\n",
       "      <th>decimal</th>\n",
       "      <th>indicator.id</th>\n",
       "      <th>indicator.value</th>\n",
       "      <th>country.id</th>\n",
       "      <th>country.value</th>\n",
       "    </tr>\n",
       "  </thead>\n",
       "  <tbody>\n",
       "    <tr>\n",
       "      <th>0</th>\n",
       "      <td>BRA</td>\n",
       "      <td>2022</td>\n",
       "      <td>1.920096e+12</td>\n",
       "      <td></td>\n",
       "      <td></td>\n",
       "      <td>0</td>\n",
       "      <td>NY.GDP.MKTP.CD</td>\n",
       "      <td>GDP (current US$)</td>\n",
       "      <td>BR</td>\n",
       "      <td>Brazil</td>\n",
       "    </tr>\n",
       "    <tr>\n",
       "      <th>1</th>\n",
       "      <td>BRA</td>\n",
       "      <td>2021</td>\n",
       "      <td>1.649623e+12</td>\n",
       "      <td></td>\n",
       "      <td></td>\n",
       "      <td>0</td>\n",
       "      <td>NY.GDP.MKTP.CD</td>\n",
       "      <td>GDP (current US$)</td>\n",
       "      <td>BR</td>\n",
       "      <td>Brazil</td>\n",
       "    </tr>\n",
       "    <tr>\n",
       "      <th>2</th>\n",
       "      <td>BRA</td>\n",
       "      <td>2020</td>\n",
       "      <td>1.476107e+12</td>\n",
       "      <td></td>\n",
       "      <td></td>\n",
       "      <td>0</td>\n",
       "      <td>NY.GDP.MKTP.CD</td>\n",
       "      <td>GDP (current US$)</td>\n",
       "      <td>BR</td>\n",
       "      <td>Brazil</td>\n",
       "    </tr>\n",
       "    <tr>\n",
       "      <th>3</th>\n",
       "      <td>BRA</td>\n",
       "      <td>2019</td>\n",
       "      <td>1.873288e+12</td>\n",
       "      <td></td>\n",
       "      <td></td>\n",
       "      <td>0</td>\n",
       "      <td>NY.GDP.MKTP.CD</td>\n",
       "      <td>GDP (current US$)</td>\n",
       "      <td>BR</td>\n",
       "      <td>Brazil</td>\n",
       "    </tr>\n",
       "    <tr>\n",
       "      <th>4</th>\n",
       "      <td>BRA</td>\n",
       "      <td>2018</td>\n",
       "      <td>1.916934e+12</td>\n",
       "      <td></td>\n",
       "      <td></td>\n",
       "      <td>0</td>\n",
       "      <td>NY.GDP.MKTP.CD</td>\n",
       "      <td>GDP (current US$)</td>\n",
       "      <td>BR</td>\n",
       "      <td>Brazil</td>\n",
       "    </tr>\n",
       "    <tr>\n",
       "      <th>5</th>\n",
       "      <td>BRA</td>\n",
       "      <td>2017</td>\n",
       "      <td>2.063515e+12</td>\n",
       "      <td></td>\n",
       "      <td></td>\n",
       "      <td>0</td>\n",
       "      <td>NY.GDP.MKTP.CD</td>\n",
       "      <td>GDP (current US$)</td>\n",
       "      <td>BR</td>\n",
       "      <td>Brazil</td>\n",
       "    </tr>\n",
       "    <tr>\n",
       "      <th>6</th>\n",
       "      <td>BRA</td>\n",
       "      <td>2016</td>\n",
       "      <td>1.795693e+12</td>\n",
       "      <td></td>\n",
       "      <td></td>\n",
       "      <td>0</td>\n",
       "      <td>NY.GDP.MKTP.CD</td>\n",
       "      <td>GDP (current US$)</td>\n",
       "      <td>BR</td>\n",
       "      <td>Brazil</td>\n",
       "    </tr>\n",
       "    <tr>\n",
       "      <th>7</th>\n",
       "      <td>BRA</td>\n",
       "      <td>2015</td>\n",
       "      <td>1.802212e+12</td>\n",
       "      <td></td>\n",
       "      <td></td>\n",
       "      <td>0</td>\n",
       "      <td>NY.GDP.MKTP.CD</td>\n",
       "      <td>GDP (current US$)</td>\n",
       "      <td>BR</td>\n",
       "      <td>Brazil</td>\n",
       "    </tr>\n",
       "    <tr>\n",
       "      <th>8</th>\n",
       "      <td>BRA</td>\n",
       "      <td>2014</td>\n",
       "      <td>2.456044e+12</td>\n",
       "      <td></td>\n",
       "      <td></td>\n",
       "      <td>0</td>\n",
       "      <td>NY.GDP.MKTP.CD</td>\n",
       "      <td>GDP (current US$)</td>\n",
       "      <td>BR</td>\n",
       "      <td>Brazil</td>\n",
       "    </tr>\n",
       "    <tr>\n",
       "      <th>9</th>\n",
       "      <td>BRA</td>\n",
       "      <td>2013</td>\n",
       "      <td>2.472820e+12</td>\n",
       "      <td></td>\n",
       "      <td></td>\n",
       "      <td>0</td>\n",
       "      <td>NY.GDP.MKTP.CD</td>\n",
       "      <td>GDP (current US$)</td>\n",
       "      <td>BR</td>\n",
       "      <td>Brazil</td>\n",
       "    </tr>\n",
       "    <tr>\n",
       "      <th>10</th>\n",
       "      <td>BRA</td>\n",
       "      <td>2012</td>\n",
       "      <td>2.465228e+12</td>\n",
       "      <td></td>\n",
       "      <td></td>\n",
       "      <td>0</td>\n",
       "      <td>NY.GDP.MKTP.CD</td>\n",
       "      <td>GDP (current US$)</td>\n",
       "      <td>BR</td>\n",
       "      <td>Brazil</td>\n",
       "    </tr>\n",
       "    <tr>\n",
       "      <th>11</th>\n",
       "      <td>BRA</td>\n",
       "      <td>2011</td>\n",
       "      <td>2.616156e+12</td>\n",
       "      <td></td>\n",
       "      <td></td>\n",
       "      <td>0</td>\n",
       "      <td>NY.GDP.MKTP.CD</td>\n",
       "      <td>GDP (current US$)</td>\n",
       "      <td>BR</td>\n",
       "      <td>Brazil</td>\n",
       "    </tr>\n",
       "    <tr>\n",
       "      <th>12</th>\n",
       "      <td>BRA</td>\n",
       "      <td>2010</td>\n",
       "      <td>2.208838e+12</td>\n",
       "      <td></td>\n",
       "      <td></td>\n",
       "      <td>0</td>\n",
       "      <td>NY.GDP.MKTP.CD</td>\n",
       "      <td>GDP (current US$)</td>\n",
       "      <td>BR</td>\n",
       "      <td>Brazil</td>\n",
       "    </tr>\n",
       "    <tr>\n",
       "      <th>13</th>\n",
       "      <td>BRA</td>\n",
       "      <td>2009</td>\n",
       "      <td>1.666996e+12</td>\n",
       "      <td></td>\n",
       "      <td></td>\n",
       "      <td>0</td>\n",
       "      <td>NY.GDP.MKTP.CD</td>\n",
       "      <td>GDP (current US$)</td>\n",
       "      <td>BR</td>\n",
       "      <td>Brazil</td>\n",
       "    </tr>\n",
       "    <tr>\n",
       "      <th>14</th>\n",
       "      <td>BRA</td>\n",
       "      <td>2008</td>\n",
       "      <td>1.695855e+12</td>\n",
       "      <td></td>\n",
       "      <td></td>\n",
       "      <td>0</td>\n",
       "      <td>NY.GDP.MKTP.CD</td>\n",
       "      <td>GDP (current US$)</td>\n",
       "      <td>BR</td>\n",
       "      <td>Brazil</td>\n",
       "    </tr>\n",
       "    <tr>\n",
       "      <th>15</th>\n",
       "      <td>BRA</td>\n",
       "      <td>2007</td>\n",
       "      <td>1.397114e+12</td>\n",
       "      <td></td>\n",
       "      <td></td>\n",
       "      <td>0</td>\n",
       "      <td>NY.GDP.MKTP.CD</td>\n",
       "      <td>GDP (current US$)</td>\n",
       "      <td>BR</td>\n",
       "      <td>Brazil</td>\n",
       "    </tr>\n",
       "    <tr>\n",
       "      <th>16</th>\n",
       "      <td>BRA</td>\n",
       "      <td>2006</td>\n",
       "      <td>1.107627e+12</td>\n",
       "      <td></td>\n",
       "      <td></td>\n",
       "      <td>0</td>\n",
       "      <td>NY.GDP.MKTP.CD</td>\n",
       "      <td>GDP (current US$)</td>\n",
       "      <td>BR</td>\n",
       "      <td>Brazil</td>\n",
       "    </tr>\n",
       "    <tr>\n",
       "      <th>17</th>\n",
       "      <td>BRA</td>\n",
       "      <td>2005</td>\n",
       "      <td>8.916338e+11</td>\n",
       "      <td></td>\n",
       "      <td></td>\n",
       "      <td>0</td>\n",
       "      <td>NY.GDP.MKTP.CD</td>\n",
       "      <td>GDP (current US$)</td>\n",
       "      <td>BR</td>\n",
       "      <td>Brazil</td>\n",
       "    </tr>\n",
       "    <tr>\n",
       "      <th>18</th>\n",
       "      <td>BRA</td>\n",
       "      <td>2004</td>\n",
       "      <td>6.692894e+11</td>\n",
       "      <td></td>\n",
       "      <td></td>\n",
       "      <td>0</td>\n",
       "      <td>NY.GDP.MKTP.CD</td>\n",
       "      <td>GDP (current US$)</td>\n",
       "      <td>BR</td>\n",
       "      <td>Brazil</td>\n",
       "    </tr>\n",
       "    <tr>\n",
       "      <th>19</th>\n",
       "      <td>BRA</td>\n",
       "      <td>2003</td>\n",
       "      <td>5.582337e+11</td>\n",
       "      <td></td>\n",
       "      <td></td>\n",
       "      <td>0</td>\n",
       "      <td>NY.GDP.MKTP.CD</td>\n",
       "      <td>GDP (current US$)</td>\n",
       "      <td>BR</td>\n",
       "      <td>Brazil</td>\n",
       "    </tr>\n",
       "  </tbody>\n",
       "</table>\n",
       "</div>"
      ],
      "text/plain": [
       "   countryiso3code  date         value unit obs_status  decimal  \\\n",
       "0              BRA  2022  1.920096e+12                        0   \n",
       "1              BRA  2021  1.649623e+12                        0   \n",
       "2              BRA  2020  1.476107e+12                        0   \n",
       "3              BRA  2019  1.873288e+12                        0   \n",
       "4              BRA  2018  1.916934e+12                        0   \n",
       "5              BRA  2017  2.063515e+12                        0   \n",
       "6              BRA  2016  1.795693e+12                        0   \n",
       "7              BRA  2015  1.802212e+12                        0   \n",
       "8              BRA  2014  2.456044e+12                        0   \n",
       "9              BRA  2013  2.472820e+12                        0   \n",
       "10             BRA  2012  2.465228e+12                        0   \n",
       "11             BRA  2011  2.616156e+12                        0   \n",
       "12             BRA  2010  2.208838e+12                        0   \n",
       "13             BRA  2009  1.666996e+12                        0   \n",
       "14             BRA  2008  1.695855e+12                        0   \n",
       "15             BRA  2007  1.397114e+12                        0   \n",
       "16             BRA  2006  1.107627e+12                        0   \n",
       "17             BRA  2005  8.916338e+11                        0   \n",
       "18             BRA  2004  6.692894e+11                        0   \n",
       "19             BRA  2003  5.582337e+11                        0   \n",
       "\n",
       "      indicator.id    indicator.value country.id country.value  \n",
       "0   NY.GDP.MKTP.CD  GDP (current US$)         BR        Brazil  \n",
       "1   NY.GDP.MKTP.CD  GDP (current US$)         BR        Brazil  \n",
       "2   NY.GDP.MKTP.CD  GDP (current US$)         BR        Brazil  \n",
       "3   NY.GDP.MKTP.CD  GDP (current US$)         BR        Brazil  \n",
       "4   NY.GDP.MKTP.CD  GDP (current US$)         BR        Brazil  \n",
       "5   NY.GDP.MKTP.CD  GDP (current US$)         BR        Brazil  \n",
       "6   NY.GDP.MKTP.CD  GDP (current US$)         BR        Brazil  \n",
       "7   NY.GDP.MKTP.CD  GDP (current US$)         BR        Brazil  \n",
       "8   NY.GDP.MKTP.CD  GDP (current US$)         BR        Brazil  \n",
       "9   NY.GDP.MKTP.CD  GDP (current US$)         BR        Brazil  \n",
       "10  NY.GDP.MKTP.CD  GDP (current US$)         BR        Brazil  \n",
       "11  NY.GDP.MKTP.CD  GDP (current US$)         BR        Brazil  \n",
       "12  NY.GDP.MKTP.CD  GDP (current US$)         BR        Brazil  \n",
       "13  NY.GDP.MKTP.CD  GDP (current US$)         BR        Brazil  \n",
       "14  NY.GDP.MKTP.CD  GDP (current US$)         BR        Brazil  \n",
       "15  NY.GDP.MKTP.CD  GDP (current US$)         BR        Brazil  \n",
       "16  NY.GDP.MKTP.CD  GDP (current US$)         BR        Brazil  \n",
       "17  NY.GDP.MKTP.CD  GDP (current US$)         BR        Brazil  \n",
       "18  NY.GDP.MKTP.CD  GDP (current US$)         BR        Brazil  \n",
       "19  NY.GDP.MKTP.CD  GDP (current US$)         BR        Brazil  "
      ]
     },
     "execution_count": 9,
     "metadata": {},
     "output_type": "execute_result"
    }
   ],
   "source": [
    "gdp_raw_df = pd.json_normalize(json_data[1])\n",
    "gdp_raw_df.head(20)"
   ]
  },
  {
   "cell_type": "markdown",
   "metadata": {},
   "source": [
    "View the data types in the DataFrame."
   ]
  },
  {
   "cell_type": "code",
   "execution_count": 10,
   "metadata": {},
   "outputs": [
    {
     "data": {
      "text/plain": [
       "countryiso3code     object\n",
       "date                object\n",
       "value              float64\n",
       "unit                object\n",
       "obs_status          object\n",
       "decimal              int64\n",
       "indicator.id        object\n",
       "indicator.value     object\n",
       "country.id          object\n",
       "country.value       object\n",
       "dtype: object"
      ]
     },
     "execution_count": 10,
     "metadata": {},
     "output_type": "execute_result"
    }
   ],
   "source": [
    "gdp_raw_df.dtypes"
   ]
  },
  {
   "cell_type": "markdown",
   "metadata": {},
   "source": [
    "### Prepare the DataFrame."
   ]
  },
  {
   "cell_type": "code",
   "execution_count": 11,
   "metadata": {},
   "outputs": [
    {
     "data": {
      "text/html": [
       "<div>\n",
       "<style scoped>\n",
       "    .dataframe tbody tr th:only-of-type {\n",
       "        vertical-align: middle;\n",
       "    }\n",
       "\n",
       "    .dataframe tbody tr th {\n",
       "        vertical-align: top;\n",
       "    }\n",
       "\n",
       "    .dataframe thead th {\n",
       "        text-align: right;\n",
       "    }\n",
       "</style>\n",
       "<table border=\"1\" class=\"dataframe\">\n",
       "  <thead>\n",
       "    <tr style=\"text-align: right;\">\n",
       "      <th></th>\n",
       "      <th>countryiso3code</th>\n",
       "      <th>date</th>\n",
       "      <th>value</th>\n",
       "      <th>indicator_value</th>\n",
       "      <th>country_value</th>\n",
       "    </tr>\n",
       "  </thead>\n",
       "  <tbody>\n",
       "    <tr>\n",
       "      <th>0</th>\n",
       "      <td>BRA</td>\n",
       "      <td>2022</td>\n",
       "      <td>1.920096e+12</td>\n",
       "      <td>GDP (current US$)</td>\n",
       "      <td>Brazil</td>\n",
       "    </tr>\n",
       "    <tr>\n",
       "      <th>1</th>\n",
       "      <td>BRA</td>\n",
       "      <td>2021</td>\n",
       "      <td>1.649623e+12</td>\n",
       "      <td>GDP (current US$)</td>\n",
       "      <td>Brazil</td>\n",
       "    </tr>\n",
       "    <tr>\n",
       "      <th>2</th>\n",
       "      <td>BRA</td>\n",
       "      <td>2020</td>\n",
       "      <td>1.476107e+12</td>\n",
       "      <td>GDP (current US$)</td>\n",
       "      <td>Brazil</td>\n",
       "    </tr>\n",
       "    <tr>\n",
       "      <th>3</th>\n",
       "      <td>BRA</td>\n",
       "      <td>2019</td>\n",
       "      <td>1.873288e+12</td>\n",
       "      <td>GDP (current US$)</td>\n",
       "      <td>Brazil</td>\n",
       "    </tr>\n",
       "    <tr>\n",
       "      <th>4</th>\n",
       "      <td>BRA</td>\n",
       "      <td>2018</td>\n",
       "      <td>1.916934e+12</td>\n",
       "      <td>GDP (current US$)</td>\n",
       "      <td>Brazil</td>\n",
       "    </tr>\n",
       "  </tbody>\n",
       "</table>\n",
       "</div>"
      ],
      "text/plain": [
       "  countryiso3code  date         value    indicator_value country_value\n",
       "0             BRA  2022  1.920096e+12  GDP (current US$)        Brazil\n",
       "1             BRA  2021  1.649623e+12  GDP (current US$)        Brazil\n",
       "2             BRA  2020  1.476107e+12  GDP (current US$)        Brazil\n",
       "3             BRA  2019  1.873288e+12  GDP (current US$)        Brazil\n",
       "4             BRA  2018  1.916934e+12  GDP (current US$)        Brazil"
      ]
     },
     "metadata": {},
     "output_type": "display_data"
    },
    {
     "data": {
      "text/html": [
       "<div>\n",
       "<style scoped>\n",
       "    .dataframe tbody tr th:only-of-type {\n",
       "        vertical-align: middle;\n",
       "    }\n",
       "\n",
       "    .dataframe tbody tr th {\n",
       "        vertical-align: top;\n",
       "    }\n",
       "\n",
       "    .dataframe thead th {\n",
       "        text-align: right;\n",
       "    }\n",
       "</style>\n",
       "<table border=\"1\" class=\"dataframe\">\n",
       "  <thead>\n",
       "    <tr style=\"text-align: right;\">\n",
       "      <th></th>\n",
       "      <th>countryiso3code</th>\n",
       "      <th>date</th>\n",
       "      <th>value</th>\n",
       "      <th>indicator_value</th>\n",
       "      <th>country_value</th>\n",
       "    </tr>\n",
       "  </thead>\n",
       "  <tbody>\n",
       "    <tr>\n",
       "      <th>64</th>\n",
       "      <td>USA</td>\n",
       "      <td>2004</td>\n",
       "      <td>1.221719e+13</td>\n",
       "      <td>GDP (current US$)</td>\n",
       "      <td>United States</td>\n",
       "    </tr>\n",
       "    <tr>\n",
       "      <th>65</th>\n",
       "      <td>USA</td>\n",
       "      <td>2003</td>\n",
       "      <td>1.145644e+13</td>\n",
       "      <td>GDP (current US$)</td>\n",
       "      <td>United States</td>\n",
       "    </tr>\n",
       "    <tr>\n",
       "      <th>66</th>\n",
       "      <td>USA</td>\n",
       "      <td>2002</td>\n",
       "      <td>1.092911e+13</td>\n",
       "      <td>GDP (current US$)</td>\n",
       "      <td>United States</td>\n",
       "    </tr>\n",
       "    <tr>\n",
       "      <th>67</th>\n",
       "      <td>USA</td>\n",
       "      <td>2001</td>\n",
       "      <td>1.058193e+13</td>\n",
       "      <td>GDP (current US$)</td>\n",
       "      <td>United States</td>\n",
       "    </tr>\n",
       "    <tr>\n",
       "      <th>68</th>\n",
       "      <td>USA</td>\n",
       "      <td>2000</td>\n",
       "      <td>1.025095e+13</td>\n",
       "      <td>GDP (current US$)</td>\n",
       "      <td>United States</td>\n",
       "    </tr>\n",
       "  </tbody>\n",
       "</table>\n",
       "</div>"
      ],
      "text/plain": [
       "   countryiso3code  date         value    indicator_value  country_value\n",
       "64             USA  2004  1.221719e+13  GDP (current US$)  United States\n",
       "65             USA  2003  1.145644e+13  GDP (current US$)  United States\n",
       "66             USA  2002  1.092911e+13  GDP (current US$)  United States\n",
       "67             USA  2001  1.058193e+13  GDP (current US$)  United States\n",
       "68             USA  2000  1.025095e+13  GDP (current US$)  United States"
      ]
     },
     "metadata": {},
     "output_type": "display_data"
    }
   ],
   "source": [
    "## Specify the columns to drop\n",
    "dropColumns = ['unit', 'obs_status', 'decimal', 'country.id', 'indicator.id']\n",
    "\n",
    "## Create a function to rename columns by replacing a . with an _\n",
    "def rename_columns(col):\n",
    "    newColName = col.replace('.','_')\n",
    "    return newColName\n",
    "\n",
    "## Create a new DataFrame\n",
    "gdp_df = (\n",
    "    gdp_raw_df\n",
    "    .drop(columns = dropColumns)                           ## Drop unncessary columns\n",
    "    .rename(columns = rename_columns)                      ## Rename columns by replacing . to an _\n",
    "    .assign(\n",
    "        date = lambda _df: _df.date.astype('int16')        ## Convert the object year value to an integer\n",
    "    )\n",
    ")\n",
    "\n",
    "## Preview the final DataFrame\n",
    "display(gdp_df.head(5), gdp_df.tail(5))"
   ]
  },
  {
   "cell_type": "markdown",
   "metadata": {},
   "source": [
    "### Simple data exploration"
   ]
  },
  {
   "cell_type": "markdown",
   "metadata": {},
   "source": [
    "View the count of countries in the DataFrame."
   ]
  },
  {
   "cell_type": "code",
   "execution_count": 12,
   "metadata": {},
   "outputs": [
    {
     "data": {
      "text/plain": [
       "country_value\n",
       "Brazil           23\n",
       "Greece           23\n",
       "United States    23\n",
       "Name: count, dtype: int64"
      ]
     },
     "execution_count": 12,
     "metadata": {},
     "output_type": "execute_result"
    }
   ],
   "source": [
    "(gdp_df\n",
    " .country_value\n",
    " .value_counts()\n",
    ")"
   ]
  },
  {
   "cell_type": "markdown",
   "metadata": {},
   "source": [
    "View descriptive statistics of each country."
   ]
  },
  {
   "cell_type": "code",
   "execution_count": 13,
   "metadata": {},
   "outputs": [
    {
     "data": {
      "text/html": [
       "<div>\n",
       "<style scoped>\n",
       "    .dataframe tbody tr th:only-of-type {\n",
       "        vertical-align: middle;\n",
       "    }\n",
       "\n",
       "    .dataframe tbody tr th {\n",
       "        vertical-align: top;\n",
       "    }\n",
       "\n",
       "    .dataframe thead th {\n",
       "        text-align: right;\n",
       "    }\n",
       "</style>\n",
       "<table border=\"1\" class=\"dataframe\">\n",
       "  <thead>\n",
       "    <tr style=\"text-align: right;\">\n",
       "      <th></th>\n",
       "      <th>country_value</th>\n",
       "      <th>Brazil</th>\n",
       "      <th>Greece</th>\n",
       "      <th>United States</th>\n",
       "    </tr>\n",
       "  </thead>\n",
       "  <tbody>\n",
       "    <tr>\n",
       "      <th rowspan=\"8\" valign=\"top\">value</th>\n",
       "      <th>count</th>\n",
       "      <td>2.300000e+01</td>\n",
       "      <td>2.300000e+01</td>\n",
       "      <td>2.300000e+01</td>\n",
       "    </tr>\n",
       "    <tr>\n",
       "      <th>mean</th>\n",
       "      <td>1.583849e+12</td>\n",
       "      <td>2.311057e+11</td>\n",
       "      <td>1.632247e+13</td>\n",
       "    </tr>\n",
       "    <tr>\n",
       "      <th>std</th>\n",
       "      <td>6.789983e+11</td>\n",
       "      <td>5.859323e+10</td>\n",
       "      <td>4.191850e+12</td>\n",
       "    </tr>\n",
       "    <tr>\n",
       "      <th>min</th>\n",
       "      <td>5.097953e+11</td>\n",
       "      <td>1.304578e+11</td>\n",
       "      <td>1.025095e+13</td>\n",
       "    </tr>\n",
       "    <tr>\n",
       "      <th>25%</th>\n",
       "      <td>9.996302e+11</td>\n",
       "      <td>1.977640e+11</td>\n",
       "      <td>1.342739e+13</td>\n",
       "    </tr>\n",
       "    <tr>\n",
       "      <th>50%</th>\n",
       "      <td>1.695855e+12</td>\n",
       "      <td>2.175813e+11</td>\n",
       "      <td>1.559973e+13</td>\n",
       "    </tr>\n",
       "    <tr>\n",
       "      <th>75%</th>\n",
       "      <td>1.991805e+12</td>\n",
       "      <td>2.607111e+11</td>\n",
       "      <td>1.908622e+13</td>\n",
       "    </tr>\n",
       "    <tr>\n",
       "      <th>max</th>\n",
       "      <td>2.616156e+12</td>\n",
       "      <td>3.559087e+11</td>\n",
       "      <td>2.543970e+13</td>\n",
       "    </tr>\n",
       "  </tbody>\n",
       "</table>\n",
       "</div>"
      ],
      "text/plain": [
       "country_value        Brazil        Greece  United States\n",
       "value count    2.300000e+01  2.300000e+01   2.300000e+01\n",
       "      mean     1.583849e+12  2.311057e+11   1.632247e+13\n",
       "      std      6.789983e+11  5.859323e+10   4.191850e+12\n",
       "      min      5.097953e+11  1.304578e+11   1.025095e+13\n",
       "      25%      9.996302e+11  1.977640e+11   1.342739e+13\n",
       "      50%      1.695855e+12  2.175813e+11   1.559973e+13\n",
       "      75%      1.991805e+12  2.607111e+11   1.908622e+13\n",
       "      max      2.616156e+12  3.559087e+11   2.543970e+13"
      ]
     },
     "execution_count": 13,
     "metadata": {},
     "output_type": "execute_result"
    }
   ],
   "source": [
    "(gdp_df\n",
    " .loc[:, ['country_value', 'value']]\n",
    " .groupby('country_value')\n",
    " .describe()\n",
    " .T\n",
    ")"
   ]
  },
  {
   "cell_type": "markdown",
   "metadata": {},
   "source": [
    "## 3. Create a Visualization"
   ]
  },
  {
   "cell_type": "code",
   "execution_count": 14,
   "metadata": {},
   "outputs": [
    {
     "data": {
      "image/png": "[encoded data removed]",
      "text/plain": [
       "<Figure size 1200x600 with 1 Axes>"
      ]
     },
     "metadata": {},
     "output_type": "display_data"
    }
   ],
   "source": [
    "## Set colors for the lines for each country\n",
    "countryColors = {\n",
    "    'United States': '#b22234',\n",
    "    'Greece':'#0d5EAF',\n",
    "    'Brazil':'#009739'\n",
    "}\n",
    "\n",
    "\n",
    "## \n",
    "## PLOT\n",
    "##\n",
    "fig, ax = plt.subplots(figsize=(12,6))\n",
    "sns.lineplot(ax=ax, data=gdp_df, x='date', y='value', \n",
    "             hue='country_value', \n",
    "             palette=countryColors, \n",
    "             marker='o', \n",
    "             legend=False)\n",
    "\n",
    "## Add end of line labels for each country\n",
    "lineLabels = (\n",
    "    gdp_df\n",
    "    .query(\"date == 2022\")\n",
    "    .loc[:,['date','country_value','value']]\n",
    ")\n",
    "for index, row in lineLabels.iterrows():\n",
    "    ax.annotate(row[1],xy=(row[0]+.18,row[2]))\n",
    "\n",
    "## Format the y axis\n",
    "def format_trillions(x,pos):\n",
    "    return f'${x/1000000000000}'\n",
    "ax.yaxis.set_major_formatter(FuncFormatter(format_trillions))\n",
    "ax.set_ylabel('GDP Value (trillions)');\n",
    "\n",
    "## Format the x axis\n",
    "minXvalue=gdp_df.date.min()\n",
    "maxXvlaue=gdp_df.date.max()+2\n",
    "ax.xaxis.set_ticks(np.arange(minXvalue, maxXvlaue, 2))\n",
    "ax.set_xlabel('')\n",
    "\n",
    "## Add title\n",
    "titleFmt = {\n",
    "    'fontsize':16,\n",
    "}\n",
    "ax.set_title('Comparative Analysis of GDP Trends: United States, Greece, and Brazil (2000-2022)', fontdict=titleFmt)\n",
    "\n",
    "## Remove spines\n",
    "ax.spines[['right', 'top']].set_visible(False)"
   ]
  },
  {
   "cell_type": "code",
   "execution_count": null,
   "metadata": {},
   "outputs": [],
   "source": []
  }
 ],
 "metadata": {
  "kernelspec": {
   "display_name": "Python 3",
   "language": "python",
   "name": "python3"
  },
  "language_info": {
   "codemirror_mode": {
    "name": "ipython",
    "version": 3
   },
   "file_extension": ".py",
   "mimetype": "text/x-python",
   "name": "python",
   "nbconvert_exporter": "python",
   "pygments_lexer": "ipython3",
   "version": "3.11.5"
  }
 },
 "nbformat": 4,
 "nbformat_minor": 4
}
